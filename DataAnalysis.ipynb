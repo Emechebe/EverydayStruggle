{
 "cells": [
  {
   "cell_type": "code",
   "execution_count": 1,
   "metadata": {
    "collapsed": true
   },
   "outputs": [],
   "source": [
    "# After collecting information about each episode of everyday struggle\n",
    "# storing them in a sqlite database as EveryDayStruggle.sqlite\n",
    "# I can now connect to that database and access the table called EveryDayStruggle"
   ]
  },
  {
   "cell_type": "code",
   "execution_count": 2,
   "metadata": {
    "collapsed": true
   },
   "outputs": [],
   "source": [
    "# Import sqlite3 \n",
    "import sqlite3\n",
    "# Connect to the database of everday struggle with Joe\n",
    "connJoe = sqlite3.connect('EverydayStruggleWithJoe/EveryDayStruggle.sqlite')\n",
    "# Cursors allow us to execute SQL queries against a database:\n",
    "curJoe = connJoe.cursor()\n",
    "\n",
    "# Connect to the database of everday struggle without Joe\n",
    "connNoJoe = sqlite3.connect('EverydayStruggleWithoutJoe/EveryDayStruggle.sqlite')\n",
    "# Cursors allow us to execute SQL queries against a database:\n",
    "curNoJoe = connNoJoe.cursor()"
   ]
  },
  {
   "cell_type": "code",
   "execution_count": 3,
   "metadata": {
    "collapsed": true
   },
   "outputs": [],
   "source": [
    "# Import the pandas lib\n",
    "import pandas as pd\n",
    "# Connect to the database\n",
    "#conn = sqlite3.connect(\"EveryDayStruggle.sqlite\")\n",
    "# Read in all the columns from the EveryDayStruggle table \n",
    "dfJoe = pd.read_sql_query(\"select * from EveryDayStruggle;\", connJoe)\n",
    "dfNoJoe = pd.read_sql_query(\"select * from EveryDayStruggle;\", connNoJoe)"
   ]
  },
  {
   "cell_type": "code",
   "execution_count": 4,
   "metadata": {},
   "outputs": [
    {
     "data": {
      "text/plain": [
       "(181, 7)"
      ]
     },
     "execution_count": 4,
     "metadata": {},
     "output_type": "execute_result"
    }
   ],
   "source": [
    "dfJoe.shape"
   ]
  },
  {
   "cell_type": "code",
   "execution_count": 5,
   "metadata": {},
   "outputs": [
    {
     "data": {
      "text/plain": [
       "(86, 7)"
      ]
     },
     "execution_count": 5,
     "metadata": {},
     "output_type": "execute_result"
    }
   ],
   "source": [
    "dfNoJoe.shape"
   ]
  },
  {
   "cell_type": "code",
   "execution_count": 6,
   "metadata": {},
   "outputs": [
    {
     "data": {
      "text/html": [
       "<div>\n",
       "<style>\n",
       "    .dataframe thead tr:only-child th {\n",
       "        text-align: right;\n",
       "    }\n",
       "\n",
       "    .dataframe thead th {\n",
       "        text-align: left;\n",
       "    }\n",
       "\n",
       "    .dataframe tbody tr th {\n",
       "        vertical-align: top;\n",
       "    }\n",
       "</style>\n",
       "<table border=\"1\" class=\"dataframe\">\n",
       "  <thead>\n",
       "    <tr style=\"text-align: right;\">\n",
       "      <th></th>\n",
       "      <th>Date_published</th>\n",
       "      <th>title</th>\n",
       "      <th>viewCount</th>\n",
       "      <th>commentCount</th>\n",
       "      <th>dislikeCount</th>\n",
       "      <th>favCount</th>\n",
       "      <th>Video_length</th>\n",
       "    </tr>\n",
       "  </thead>\n",
       "  <tbody>\n",
       "    <tr>\n",
       "      <th>0</th>\n",
       "      <td>2017-12-20T16:00:05.000Z</td>\n",
       "      <td>Everyday Struggle Top 10 Moments of 2017</td>\n",
       "      <td>211814</td>\n",
       "      <td>5305</td>\n",
       "      <td>26566</td>\n",
       "      <td>0</td>\n",
       "      <td>PT31M36S</td>\n",
       "    </tr>\n",
       "    <tr>\n",
       "      <th>1</th>\n",
       "      <td>2017-12-20T00:00:23.000Z</td>\n",
       "      <td>Quavo &amp; Lil Yachty Drop Cold New Video for Joe...</td>\n",
       "      <td>73327</td>\n",
       "      <td>551</td>\n",
       "      <td>1932</td>\n",
       "      <td>0</td>\n",
       "      <td>PT1M47S</td>\n",
       "    </tr>\n",
       "    <tr>\n",
       "      <th>2</th>\n",
       "      <td>2017-12-18T15:18:03.000Z</td>\n",
       "      <td>Eminem Revival Reactions, XXXTentacion Sent to...</td>\n",
       "      <td>475570</td>\n",
       "      <td>4983</td>\n",
       "      <td>9848</td>\n",
       "      <td>0</td>\n",
       "      <td>PT56M7S</td>\n",
       "    </tr>\n",
       "    <tr>\n",
       "      <th>3</th>\n",
       "      <td>2017-12-14T16:09:39.000Z</td>\n",
       "      <td>Best Albums and Songs of 2017, Tory Lanez Biti...</td>\n",
       "      <td>417192</td>\n",
       "      <td>4352</td>\n",
       "      <td>678</td>\n",
       "      <td>0</td>\n",
       "      <td>PT1H3M13S</td>\n",
       "    </tr>\n",
       "    <tr>\n",
       "      <th>4</th>\n",
       "      <td>2017-12-13T16:00:01.000Z</td>\n",
       "      <td>Jeezy Show Recap, Budden Not Here For Woke Emi...</td>\n",
       "      <td>489203</td>\n",
       "      <td>5256</td>\n",
       "      <td>540</td>\n",
       "      <td>0</td>\n",
       "      <td>PT1H3M45S</td>\n",
       "    </tr>\n",
       "  </tbody>\n",
       "</table>\n",
       "</div>"
      ],
      "text/plain": [
       "             Date_published  \\\n",
       "0  2017-12-20T16:00:05.000Z   \n",
       "1  2017-12-20T00:00:23.000Z   \n",
       "2  2017-12-18T15:18:03.000Z   \n",
       "3  2017-12-14T16:09:39.000Z   \n",
       "4  2017-12-13T16:00:01.000Z   \n",
       "\n",
       "                                               title  viewCount  commentCount  \\\n",
       "0           Everyday Struggle Top 10 Moments of 2017     211814          5305   \n",
       "1  Quavo & Lil Yachty Drop Cold New Video for Joe...      73327           551   \n",
       "2  Eminem Revival Reactions, XXXTentacion Sent to...     475570          4983   \n",
       "3  Best Albums and Songs of 2017, Tory Lanez Biti...     417192          4352   \n",
       "4  Jeezy Show Recap, Budden Not Here For Woke Emi...     489203          5256   \n",
       "\n",
       "   dislikeCount  favCount Video_length  \n",
       "0         26566         0     PT31M36S  \n",
       "1          1932         0      PT1M47S  \n",
       "2          9848         0      PT56M7S  \n",
       "3           678         0    PT1H3M13S  \n",
       "4           540         0    PT1H3M45S  "
      ]
     },
     "execution_count": 6,
     "metadata": {},
     "output_type": "execute_result"
    }
   ],
   "source": [
    "dfJoe.head()"
   ]
  },
  {
   "cell_type": "code",
   "execution_count": 7,
   "metadata": {},
   "outputs": [
    {
     "data": {
      "text/html": [
       "<div>\n",
       "<style>\n",
       "    .dataframe thead tr:only-child th {\n",
       "        text-align: right;\n",
       "    }\n",
       "\n",
       "    .dataframe thead th {\n",
       "        text-align: left;\n",
       "    }\n",
       "\n",
       "    .dataframe tbody tr th {\n",
       "        vertical-align: top;\n",
       "    }\n",
       "</style>\n",
       "<table border=\"1\" class=\"dataframe\">\n",
       "  <thead>\n",
       "    <tr style=\"text-align: right;\">\n",
       "      <th></th>\n",
       "      <th>Date_published</th>\n",
       "      <th>title</th>\n",
       "      <th>viewCount</th>\n",
       "      <th>commentCount</th>\n",
       "      <th>dislikeCount</th>\n",
       "      <th>favCount</th>\n",
       "      <th>Video_length</th>\n",
       "    </tr>\n",
       "  </thead>\n",
       "  <tbody>\n",
       "    <tr>\n",
       "      <th>176</th>\n",
       "      <td>2017-04-10T15:00:03.000Z</td>\n",
       "      <td>Everyday Struggle EP 101 | Joe Budden &amp; DJ Aka...</td>\n",
       "      <td>472766</td>\n",
       "      <td>3770</td>\n",
       "      <td>231</td>\n",
       "      <td>0</td>\n",
       "      <td>PT31M42S</td>\n",
       "    </tr>\n",
       "    <tr>\n",
       "      <th>177</th>\n",
       "      <td>2017-04-10T15:00:03.000Z</td>\n",
       "      <td>Everyday Struggle EP 101 | Joe Budden &amp; DJ Aka...</td>\n",
       "      <td>472766</td>\n",
       "      <td>3770</td>\n",
       "      <td>231</td>\n",
       "      <td>0</td>\n",
       "      <td>PT31M42S</td>\n",
       "    </tr>\n",
       "    <tr>\n",
       "      <th>178</th>\n",
       "      <td>2017-04-10T15:00:03.000Z</td>\n",
       "      <td>Everyday Struggle EP 101 | Joe Budden &amp; DJ Aka...</td>\n",
       "      <td>472766</td>\n",
       "      <td>3770</td>\n",
       "      <td>231</td>\n",
       "      <td>0</td>\n",
       "      <td>PT31M42S</td>\n",
       "    </tr>\n",
       "    <tr>\n",
       "      <th>179</th>\n",
       "      <td>2017-04-10T15:00:03.000Z</td>\n",
       "      <td>Everyday Struggle EP 101 | Joe Budden &amp; DJ Aka...</td>\n",
       "      <td>472766</td>\n",
       "      <td>3770</td>\n",
       "      <td>231</td>\n",
       "      <td>0</td>\n",
       "      <td>PT31M42S</td>\n",
       "    </tr>\n",
       "    <tr>\n",
       "      <th>180</th>\n",
       "      <td>2017-04-10T15:00:03.000Z</td>\n",
       "      <td>Everyday Struggle EP 101 | Joe Budden &amp; DJ Aka...</td>\n",
       "      <td>472766</td>\n",
       "      <td>3770</td>\n",
       "      <td>231</td>\n",
       "      <td>0</td>\n",
       "      <td>PT31M42S</td>\n",
       "    </tr>\n",
       "  </tbody>\n",
       "</table>\n",
       "</div>"
      ],
      "text/plain": [
       "               Date_published  \\\n",
       "176  2017-04-10T15:00:03.000Z   \n",
       "177  2017-04-10T15:00:03.000Z   \n",
       "178  2017-04-10T15:00:03.000Z   \n",
       "179  2017-04-10T15:00:03.000Z   \n",
       "180  2017-04-10T15:00:03.000Z   \n",
       "\n",
       "                                                 title  viewCount  \\\n",
       "176  Everyday Struggle EP 101 | Joe Budden & DJ Aka...     472766   \n",
       "177  Everyday Struggle EP 101 | Joe Budden & DJ Aka...     472766   \n",
       "178  Everyday Struggle EP 101 | Joe Budden & DJ Aka...     472766   \n",
       "179  Everyday Struggle EP 101 | Joe Budden & DJ Aka...     472766   \n",
       "180  Everyday Struggle EP 101 | Joe Budden & DJ Aka...     472766   \n",
       "\n",
       "     commentCount  dislikeCount  favCount Video_length  \n",
       "176          3770           231         0     PT31M42S  \n",
       "177          3770           231         0     PT31M42S  \n",
       "178          3770           231         0     PT31M42S  \n",
       "179          3770           231         0     PT31M42S  \n",
       "180          3770           231         0     PT31M42S  "
      ]
     },
     "execution_count": 7,
     "metadata": {},
     "output_type": "execute_result"
    }
   ],
   "source": [
    "dfJoe.tail()"
   ]
  },
  {
   "cell_type": "code",
   "execution_count": 8,
   "metadata": {},
   "outputs": [
    {
     "data": {
      "text/html": [
       "<div>\n",
       "<style>\n",
       "    .dataframe thead tr:only-child th {\n",
       "        text-align: right;\n",
       "    }\n",
       "\n",
       "    .dataframe thead th {\n",
       "        text-align: left;\n",
       "    }\n",
       "\n",
       "    .dataframe tbody tr th {\n",
       "        vertical-align: top;\n",
       "    }\n",
       "</style>\n",
       "<table border=\"1\" class=\"dataframe\">\n",
       "  <thead>\n",
       "    <tr style=\"text-align: right;\">\n",
       "      <th></th>\n",
       "      <th>Date_published</th>\n",
       "      <th>title</th>\n",
       "      <th>viewCount</th>\n",
       "      <th>commentCount</th>\n",
       "      <th>dislikeCount</th>\n",
       "      <th>favCount</th>\n",
       "      <th>Video_length</th>\n",
       "    </tr>\n",
       "  </thead>\n",
       "  <tbody>\n",
       "    <tr>\n",
       "      <th>0</th>\n",
       "      <td>2018-06-19T15:00:11.000Z</td>\n",
       "      <td>DJ Akademiks Reacts to XXXTentacion's Tragic D...</td>\n",
       "      <td>349957</td>\n",
       "      <td>3700</td>\n",
       "      <td>555</td>\n",
       "      <td>0</td>\n",
       "      <td>PT36M4S</td>\n",
       "    </tr>\n",
       "    <tr>\n",
       "      <th>1</th>\n",
       "      <td>2018-06-18T15:00:03.000Z</td>\n",
       "      <td>Jay Z &amp; Beyoncé Surprise Album, Drake Calls Ak...</td>\n",
       "      <td>204211</td>\n",
       "      <td>1515</td>\n",
       "      <td>574</td>\n",
       "      <td>0</td>\n",
       "      <td>PT49M37S</td>\n",
       "    </tr>\n",
       "    <tr>\n",
       "      <th>2</th>\n",
       "      <td>2018-06-14T15:00:05.000Z</td>\n",
       "      <td>Nicki Minaj Defending Meek's Judge? Tekashi 69...</td>\n",
       "      <td>174780</td>\n",
       "      <td>1386</td>\n",
       "      <td>473</td>\n",
       "      <td>0</td>\n",
       "      <td>PT49M</td>\n",
       "    </tr>\n",
       "    <tr>\n",
       "      <th>3</th>\n",
       "      <td>2018-06-13T15:00:12.000Z</td>\n",
       "      <td>XXL Freshman List Reactions - Who Got Snubbed?...</td>\n",
       "      <td>169036</td>\n",
       "      <td>1600</td>\n",
       "      <td>562</td>\n",
       "      <td>0</td>\n",
       "      <td>PT48M59S</td>\n",
       "    </tr>\n",
       "    <tr>\n",
       "      <th>4</th>\n",
       "      <td>2018-06-12T15:00:05.000Z</td>\n",
       "      <td>'Kids See Ghosts' Album Hot or Nah? Does 69 Ne...</td>\n",
       "      <td>140034</td>\n",
       "      <td>2057</td>\n",
       "      <td>1908</td>\n",
       "      <td>0</td>\n",
       "      <td>PT58M3S</td>\n",
       "    </tr>\n",
       "  </tbody>\n",
       "</table>\n",
       "</div>"
      ],
      "text/plain": [
       "             Date_published  \\\n",
       "0  2018-06-19T15:00:11.000Z   \n",
       "1  2018-06-18T15:00:03.000Z   \n",
       "2  2018-06-14T15:00:05.000Z   \n",
       "3  2018-06-13T15:00:12.000Z   \n",
       "4  2018-06-12T15:00:05.000Z   \n",
       "\n",
       "                                               title  viewCount  commentCount  \\\n",
       "0  DJ Akademiks Reacts to XXXTentacion's Tragic D...     349957          3700   \n",
       "1  Jay Z & Beyoncé Surprise Album, Drake Calls Ak...     204211          1515   \n",
       "2  Nicki Minaj Defending Meek's Judge? Tekashi 69...     174780          1386   \n",
       "3  XXL Freshman List Reactions - Who Got Snubbed?...     169036          1600   \n",
       "4  'Kids See Ghosts' Album Hot or Nah? Does 69 Ne...     140034          2057   \n",
       "\n",
       "   dislikeCount  favCount Video_length  \n",
       "0           555         0      PT36M4S  \n",
       "1           574         0     PT49M37S  \n",
       "2           473         0        PT49M  \n",
       "3           562         0     PT48M59S  \n",
       "4          1908         0      PT58M3S  "
      ]
     },
     "execution_count": 8,
     "metadata": {},
     "output_type": "execute_result"
    }
   ],
   "source": [
    "dfNoJoe.head()"
   ]
  },
  {
   "cell_type": "code",
   "execution_count": 9,
   "metadata": {},
   "outputs": [
    {
     "data": {
      "text/html": [
       "<div>\n",
       "<style>\n",
       "    .dataframe thead tr:only-child th {\n",
       "        text-align: right;\n",
       "    }\n",
       "\n",
       "    .dataframe thead th {\n",
       "        text-align: left;\n",
       "    }\n",
       "\n",
       "    .dataframe tbody tr th {\n",
       "        vertical-align: top;\n",
       "    }\n",
       "</style>\n",
       "<table border=\"1\" class=\"dataframe\">\n",
       "  <thead>\n",
       "    <tr style=\"text-align: right;\">\n",
       "      <th></th>\n",
       "      <th>Date_published</th>\n",
       "      <th>title</th>\n",
       "      <th>viewCount</th>\n",
       "      <th>commentCount</th>\n",
       "      <th>dislikeCount</th>\n",
       "      <th>favCount</th>\n",
       "      <th>Video_length</th>\n",
       "    </tr>\n",
       "  </thead>\n",
       "  <tbody>\n",
       "    <tr>\n",
       "      <th>81</th>\n",
       "      <td>2017-12-01T16:00:07.000Z</td>\n",
       "      <td>Boosie Joins for Social Media Wilding, Meek's ...</td>\n",
       "      <td>372807</td>\n",
       "      <td>2153</td>\n",
       "      <td>240</td>\n",
       "      <td>0</td>\n",
       "      <td>PT43M19S</td>\n",
       "    </tr>\n",
       "    <tr>\n",
       "      <th>82</th>\n",
       "      <td>2017-12-01T16:00:07.000Z</td>\n",
       "      <td>Boosie Joins for Social Media Wilding, Meek's ...</td>\n",
       "      <td>372807</td>\n",
       "      <td>2153</td>\n",
       "      <td>240</td>\n",
       "      <td>0</td>\n",
       "      <td>PT43M19S</td>\n",
       "    </tr>\n",
       "    <tr>\n",
       "      <th>83</th>\n",
       "      <td>2017-12-01T16:00:07.000Z</td>\n",
       "      <td>Boosie Joins for Social Media Wilding, Meek's ...</td>\n",
       "      <td>372807</td>\n",
       "      <td>2153</td>\n",
       "      <td>240</td>\n",
       "      <td>0</td>\n",
       "      <td>PT43M19S</td>\n",
       "    </tr>\n",
       "    <tr>\n",
       "      <th>84</th>\n",
       "      <td>2017-12-01T16:00:07.000Z</td>\n",
       "      <td>Boosie Joins for Social Media Wilding, Meek's ...</td>\n",
       "      <td>372807</td>\n",
       "      <td>2153</td>\n",
       "      <td>240</td>\n",
       "      <td>0</td>\n",
       "      <td>PT43M19S</td>\n",
       "    </tr>\n",
       "    <tr>\n",
       "      <th>85</th>\n",
       "      <td>2017-12-01T16:00:07.000Z</td>\n",
       "      <td>Boosie Joins for Social Media Wilding, Meek's ...</td>\n",
       "      <td>372807</td>\n",
       "      <td>2153</td>\n",
       "      <td>240</td>\n",
       "      <td>0</td>\n",
       "      <td>PT43M19S</td>\n",
       "    </tr>\n",
       "  </tbody>\n",
       "</table>\n",
       "</div>"
      ],
      "text/plain": [
       "              Date_published  \\\n",
       "81  2017-12-01T16:00:07.000Z   \n",
       "82  2017-12-01T16:00:07.000Z   \n",
       "83  2017-12-01T16:00:07.000Z   \n",
       "84  2017-12-01T16:00:07.000Z   \n",
       "85  2017-12-01T16:00:07.000Z   \n",
       "\n",
       "                                                title  viewCount  \\\n",
       "81  Boosie Joins for Social Media Wilding, Meek's ...     372807   \n",
       "82  Boosie Joins for Social Media Wilding, Meek's ...     372807   \n",
       "83  Boosie Joins for Social Media Wilding, Meek's ...     372807   \n",
       "84  Boosie Joins for Social Media Wilding, Meek's ...     372807   \n",
       "85  Boosie Joins for Social Media Wilding, Meek's ...     372807   \n",
       "\n",
       "    commentCount  dislikeCount  favCount Video_length  \n",
       "81          2153           240         0     PT43M19S  \n",
       "82          2153           240         0     PT43M19S  \n",
       "83          2153           240         0     PT43M19S  \n",
       "84          2153           240         0     PT43M19S  \n",
       "85          2153           240         0     PT43M19S  "
      ]
     },
     "execution_count": 9,
     "metadata": {},
     "output_type": "execute_result"
    }
   ],
   "source": [
    "dfNoJoe.tail()"
   ]
  },
  {
   "cell_type": "code",
   "execution_count": 10,
   "metadata": {
    "collapsed": true
   },
   "outputs": [],
   "source": [
    "dfNoJoe1=dfNoJoe[:-18]"
   ]
  },
  {
   "cell_type": "code",
   "execution_count": 11,
   "metadata": {},
   "outputs": [
    {
     "data": {
      "text/html": [
       "<div>\n",
       "<style>\n",
       "    .dataframe thead tr:only-child th {\n",
       "        text-align: right;\n",
       "    }\n",
       "\n",
       "    .dataframe thead th {\n",
       "        text-align: left;\n",
       "    }\n",
       "\n",
       "    .dataframe tbody tr th {\n",
       "        vertical-align: top;\n",
       "    }\n",
       "</style>\n",
       "<table border=\"1\" class=\"dataframe\">\n",
       "  <thead>\n",
       "    <tr style=\"text-align: right;\">\n",
       "      <th></th>\n",
       "      <th>Date_published</th>\n",
       "      <th>title</th>\n",
       "      <th>viewCount</th>\n",
       "      <th>commentCount</th>\n",
       "      <th>dislikeCount</th>\n",
       "      <th>favCount</th>\n",
       "      <th>Video_length</th>\n",
       "    </tr>\n",
       "  </thead>\n",
       "  <tbody>\n",
       "    <tr>\n",
       "      <th>63</th>\n",
       "      <td>2017-12-08T16:00:04.000Z</td>\n",
       "      <td>Fat Joe Joins for Cam vs Mase, Artist Advice, ...</td>\n",
       "      <td>358290</td>\n",
       "      <td>2171</td>\n",
       "      <td>234</td>\n",
       "      <td>0</td>\n",
       "      <td>PT54M6S</td>\n",
       "    </tr>\n",
       "    <tr>\n",
       "      <th>64</th>\n",
       "      <td>2017-12-06T16:00:03.000Z</td>\n",
       "      <td>Joyner Lucas Joins for Eminem Tracklist Reacti...</td>\n",
       "      <td>772437</td>\n",
       "      <td>7749</td>\n",
       "      <td>603</td>\n",
       "      <td>0</td>\n",
       "      <td>PT1H10M2S</td>\n",
       "    </tr>\n",
       "    <tr>\n",
       "      <th>65</th>\n",
       "      <td>2017-12-05T16:00:03.000Z</td>\n",
       "      <td>Lil Pump Diss, Joe Gets Honest About Jeezy, Me...</td>\n",
       "      <td>533463</td>\n",
       "      <td>4068</td>\n",
       "      <td>378</td>\n",
       "      <td>0</td>\n",
       "      <td>PT52M31S</td>\n",
       "    </tr>\n",
       "    <tr>\n",
       "      <th>66</th>\n",
       "      <td>2017-12-04T16:00:06.000Z</td>\n",
       "      <td>Big Sean &amp; Metro Album, Ryan Leslie's Laptop, ...</td>\n",
       "      <td>301657</td>\n",
       "      <td>2054</td>\n",
       "      <td>321</td>\n",
       "      <td>0</td>\n",
       "      <td>PT46M38S</td>\n",
       "    </tr>\n",
       "    <tr>\n",
       "      <th>67</th>\n",
       "      <td>2017-12-01T16:00:07.000Z</td>\n",
       "      <td>Boosie Joins for Social Media Wilding, Meek's ...</td>\n",
       "      <td>372807</td>\n",
       "      <td>2153</td>\n",
       "      <td>240</td>\n",
       "      <td>0</td>\n",
       "      <td>PT43M19S</td>\n",
       "    </tr>\n",
       "  </tbody>\n",
       "</table>\n",
       "</div>"
      ],
      "text/plain": [
       "              Date_published  \\\n",
       "63  2017-12-08T16:00:04.000Z   \n",
       "64  2017-12-06T16:00:03.000Z   \n",
       "65  2017-12-05T16:00:03.000Z   \n",
       "66  2017-12-04T16:00:06.000Z   \n",
       "67  2017-12-01T16:00:07.000Z   \n",
       "\n",
       "                                                title  viewCount  \\\n",
       "63  Fat Joe Joins for Cam vs Mase, Artist Advice, ...     358290   \n",
       "64  Joyner Lucas Joins for Eminem Tracklist Reacti...     772437   \n",
       "65  Lil Pump Diss, Joe Gets Honest About Jeezy, Me...     533463   \n",
       "66  Big Sean & Metro Album, Ryan Leslie's Laptop, ...     301657   \n",
       "67  Boosie Joins for Social Media Wilding, Meek's ...     372807   \n",
       "\n",
       "    commentCount  dislikeCount  favCount Video_length  \n",
       "63          2171           234         0      PT54M6S  \n",
       "64          7749           603         0    PT1H10M2S  \n",
       "65          4068           378         0     PT52M31S  \n",
       "66          2054           321         0     PT46M38S  \n",
       "67          2153           240         0     PT43M19S  "
      ]
     },
     "execution_count": 11,
     "metadata": {},
     "output_type": "execute_result"
    }
   ],
   "source": [
    "dfNoJoe1.tail()"
   ]
  },
  {
   "cell_type": "code",
   "execution_count": 12,
   "metadata": {
    "collapsed": true
   },
   "outputs": [],
   "source": [
    "# Create a new column in the dataset that is in the datetime format\n",
    "dfJoe['Date_published_formatted'] =  pd.to_datetime(dfJoe.Date_published)"
   ]
  },
  {
   "cell_type": "code",
   "execution_count": 13,
   "metadata": {},
   "outputs": [
    {
     "data": {
      "text/html": [
       "<div>\n",
       "<style>\n",
       "    .dataframe thead tr:only-child th {\n",
       "        text-align: right;\n",
       "    }\n",
       "\n",
       "    .dataframe thead th {\n",
       "        text-align: left;\n",
       "    }\n",
       "\n",
       "    .dataframe tbody tr th {\n",
       "        vertical-align: top;\n",
       "    }\n",
       "</style>\n",
       "<table border=\"1\" class=\"dataframe\">\n",
       "  <thead>\n",
       "    <tr style=\"text-align: right;\">\n",
       "      <th></th>\n",
       "      <th>Date_published</th>\n",
       "      <th>title</th>\n",
       "      <th>viewCount</th>\n",
       "      <th>commentCount</th>\n",
       "      <th>dislikeCount</th>\n",
       "      <th>favCount</th>\n",
       "      <th>Video_length</th>\n",
       "      <th>Date_published_formatted</th>\n",
       "    </tr>\n",
       "  </thead>\n",
       "  <tbody>\n",
       "    <tr>\n",
       "      <th>0</th>\n",
       "      <td>2017-12-20T16:00:05.000Z</td>\n",
       "      <td>Everyday Struggle Top 10 Moments of 2017</td>\n",
       "      <td>211814</td>\n",
       "      <td>5305</td>\n",
       "      <td>26566</td>\n",
       "      <td>0</td>\n",
       "      <td>PT31M36S</td>\n",
       "      <td>2017-12-20 16:00:05</td>\n",
       "    </tr>\n",
       "    <tr>\n",
       "      <th>1</th>\n",
       "      <td>2017-12-20T00:00:23.000Z</td>\n",
       "      <td>Quavo &amp; Lil Yachty Drop Cold New Video for Joe...</td>\n",
       "      <td>73327</td>\n",
       "      <td>551</td>\n",
       "      <td>1932</td>\n",
       "      <td>0</td>\n",
       "      <td>PT1M47S</td>\n",
       "      <td>2017-12-20 00:00:23</td>\n",
       "    </tr>\n",
       "    <tr>\n",
       "      <th>2</th>\n",
       "      <td>2017-12-18T15:18:03.000Z</td>\n",
       "      <td>Eminem Revival Reactions, XXXTentacion Sent to...</td>\n",
       "      <td>475570</td>\n",
       "      <td>4983</td>\n",
       "      <td>9848</td>\n",
       "      <td>0</td>\n",
       "      <td>PT56M7S</td>\n",
       "      <td>2017-12-18 15:18:03</td>\n",
       "    </tr>\n",
       "    <tr>\n",
       "      <th>3</th>\n",
       "      <td>2017-12-14T16:09:39.000Z</td>\n",
       "      <td>Best Albums and Songs of 2017, Tory Lanez Biti...</td>\n",
       "      <td>417192</td>\n",
       "      <td>4352</td>\n",
       "      <td>678</td>\n",
       "      <td>0</td>\n",
       "      <td>PT1H3M13S</td>\n",
       "      <td>2017-12-14 16:09:39</td>\n",
       "    </tr>\n",
       "    <tr>\n",
       "      <th>4</th>\n",
       "      <td>2017-12-13T16:00:01.000Z</td>\n",
       "      <td>Jeezy Show Recap, Budden Not Here For Woke Emi...</td>\n",
       "      <td>489203</td>\n",
       "      <td>5256</td>\n",
       "      <td>540</td>\n",
       "      <td>0</td>\n",
       "      <td>PT1H3M45S</td>\n",
       "      <td>2017-12-13 16:00:01</td>\n",
       "    </tr>\n",
       "  </tbody>\n",
       "</table>\n",
       "</div>"
      ],
      "text/plain": [
       "             Date_published  \\\n",
       "0  2017-12-20T16:00:05.000Z   \n",
       "1  2017-12-20T00:00:23.000Z   \n",
       "2  2017-12-18T15:18:03.000Z   \n",
       "3  2017-12-14T16:09:39.000Z   \n",
       "4  2017-12-13T16:00:01.000Z   \n",
       "\n",
       "                                               title  viewCount  commentCount  \\\n",
       "0           Everyday Struggle Top 10 Moments of 2017     211814          5305   \n",
       "1  Quavo & Lil Yachty Drop Cold New Video for Joe...      73327           551   \n",
       "2  Eminem Revival Reactions, XXXTentacion Sent to...     475570          4983   \n",
       "3  Best Albums and Songs of 2017, Tory Lanez Biti...     417192          4352   \n",
       "4  Jeezy Show Recap, Budden Not Here For Woke Emi...     489203          5256   \n",
       "\n",
       "   dislikeCount  favCount Video_length Date_published_formatted  \n",
       "0         26566         0     PT31M36S      2017-12-20 16:00:05  \n",
       "1          1932         0      PT1M47S      2017-12-20 00:00:23  \n",
       "2          9848         0      PT56M7S      2017-12-18 15:18:03  \n",
       "3           678         0    PT1H3M13S      2017-12-14 16:09:39  \n",
       "4           540         0    PT1H3M45S      2017-12-13 16:00:01  "
      ]
     },
     "execution_count": 13,
     "metadata": {},
     "output_type": "execute_result"
    }
   ],
   "source": [
    "dfJoe.head()"
   ]
  },
  {
   "cell_type": "code",
   "execution_count": 14,
   "metadata": {
    "collapsed": true
   },
   "outputs": [],
   "source": [
    "# Get the day of the week\n",
    "dfJoe['weekday'] = dfJoe['Date_published_formatted'].dt.dayofweek"
   ]
  },
  {
   "cell_type": "code",
   "execution_count": 15,
   "metadata": {},
   "outputs": [
    {
     "data": {
      "text/html": [
       "<div>\n",
       "<style>\n",
       "    .dataframe thead tr:only-child th {\n",
       "        text-align: right;\n",
       "    }\n",
       "\n",
       "    .dataframe thead th {\n",
       "        text-align: left;\n",
       "    }\n",
       "\n",
       "    .dataframe tbody tr th {\n",
       "        vertical-align: top;\n",
       "    }\n",
       "</style>\n",
       "<table border=\"1\" class=\"dataframe\">\n",
       "  <thead>\n",
       "    <tr style=\"text-align: right;\">\n",
       "      <th></th>\n",
       "      <th>Date_published</th>\n",
       "      <th>title</th>\n",
       "      <th>viewCount</th>\n",
       "      <th>commentCount</th>\n",
       "      <th>dislikeCount</th>\n",
       "      <th>favCount</th>\n",
       "      <th>Video_length</th>\n",
       "      <th>Date_published_formatted</th>\n",
       "      <th>weekday</th>\n",
       "    </tr>\n",
       "  </thead>\n",
       "  <tbody>\n",
       "    <tr>\n",
       "      <th>0</th>\n",
       "      <td>2017-12-20T16:00:05.000Z</td>\n",
       "      <td>Everyday Struggle Top 10 Moments of 2017</td>\n",
       "      <td>211814</td>\n",
       "      <td>5305</td>\n",
       "      <td>26566</td>\n",
       "      <td>0</td>\n",
       "      <td>PT31M36S</td>\n",
       "      <td>2017-12-20 16:00:05</td>\n",
       "      <td>2</td>\n",
       "    </tr>\n",
       "    <tr>\n",
       "      <th>1</th>\n",
       "      <td>2017-12-20T00:00:23.000Z</td>\n",
       "      <td>Quavo &amp; Lil Yachty Drop Cold New Video for Joe...</td>\n",
       "      <td>73327</td>\n",
       "      <td>551</td>\n",
       "      <td>1932</td>\n",
       "      <td>0</td>\n",
       "      <td>PT1M47S</td>\n",
       "      <td>2017-12-20 00:00:23</td>\n",
       "      <td>2</td>\n",
       "    </tr>\n",
       "    <tr>\n",
       "      <th>2</th>\n",
       "      <td>2017-12-18T15:18:03.000Z</td>\n",
       "      <td>Eminem Revival Reactions, XXXTentacion Sent to...</td>\n",
       "      <td>475570</td>\n",
       "      <td>4983</td>\n",
       "      <td>9848</td>\n",
       "      <td>0</td>\n",
       "      <td>PT56M7S</td>\n",
       "      <td>2017-12-18 15:18:03</td>\n",
       "      <td>0</td>\n",
       "    </tr>\n",
       "    <tr>\n",
       "      <th>3</th>\n",
       "      <td>2017-12-14T16:09:39.000Z</td>\n",
       "      <td>Best Albums and Songs of 2017, Tory Lanez Biti...</td>\n",
       "      <td>417192</td>\n",
       "      <td>4352</td>\n",
       "      <td>678</td>\n",
       "      <td>0</td>\n",
       "      <td>PT1H3M13S</td>\n",
       "      <td>2017-12-14 16:09:39</td>\n",
       "      <td>3</td>\n",
       "    </tr>\n",
       "    <tr>\n",
       "      <th>4</th>\n",
       "      <td>2017-12-13T16:00:01.000Z</td>\n",
       "      <td>Jeezy Show Recap, Budden Not Here For Woke Emi...</td>\n",
       "      <td>489203</td>\n",
       "      <td>5256</td>\n",
       "      <td>540</td>\n",
       "      <td>0</td>\n",
       "      <td>PT1H3M45S</td>\n",
       "      <td>2017-12-13 16:00:01</td>\n",
       "      <td>2</td>\n",
       "    </tr>\n",
       "  </tbody>\n",
       "</table>\n",
       "</div>"
      ],
      "text/plain": [
       "             Date_published  \\\n",
       "0  2017-12-20T16:00:05.000Z   \n",
       "1  2017-12-20T00:00:23.000Z   \n",
       "2  2017-12-18T15:18:03.000Z   \n",
       "3  2017-12-14T16:09:39.000Z   \n",
       "4  2017-12-13T16:00:01.000Z   \n",
       "\n",
       "                                               title  viewCount  commentCount  \\\n",
       "0           Everyday Struggle Top 10 Moments of 2017     211814          5305   \n",
       "1  Quavo & Lil Yachty Drop Cold New Video for Joe...      73327           551   \n",
       "2  Eminem Revival Reactions, XXXTentacion Sent to...     475570          4983   \n",
       "3  Best Albums and Songs of 2017, Tory Lanez Biti...     417192          4352   \n",
       "4  Jeezy Show Recap, Budden Not Here For Woke Emi...     489203          5256   \n",
       "\n",
       "   dislikeCount  favCount Video_length Date_published_formatted  weekday  \n",
       "0         26566         0     PT31M36S      2017-12-20 16:00:05        2  \n",
       "1          1932         0      PT1M47S      2017-12-20 00:00:23        2  \n",
       "2          9848         0      PT56M7S      2017-12-18 15:18:03        0  \n",
       "3           678         0    PT1H3M13S      2017-12-14 16:09:39        3  \n",
       "4           540         0    PT1H3M45S      2017-12-13 16:00:01        2  "
      ]
     },
     "execution_count": 15,
     "metadata": {},
     "output_type": "execute_result"
    }
   ],
   "source": [
    "dfJoe.head()"
   ]
  },
  {
   "cell_type": "code",
   "execution_count": 16,
   "metadata": {
    "collapsed": true
   },
   "outputs": [],
   "source": [
    "dfJoe['day_of_week'] = dfJoe['Date_published_formatted'].dt.weekday_name"
   ]
  },
  {
   "cell_type": "code",
   "execution_count": 17,
   "metadata": {},
   "outputs": [
    {
     "data": {
      "text/html": [
       "<div>\n",
       "<style>\n",
       "    .dataframe thead tr:only-child th {\n",
       "        text-align: right;\n",
       "    }\n",
       "\n",
       "    .dataframe thead th {\n",
       "        text-align: left;\n",
       "    }\n",
       "\n",
       "    .dataframe tbody tr th {\n",
       "        vertical-align: top;\n",
       "    }\n",
       "</style>\n",
       "<table border=\"1\" class=\"dataframe\">\n",
       "  <thead>\n",
       "    <tr style=\"text-align: right;\">\n",
       "      <th></th>\n",
       "      <th>Date_published</th>\n",
       "      <th>title</th>\n",
       "      <th>viewCount</th>\n",
       "      <th>commentCount</th>\n",
       "      <th>dislikeCount</th>\n",
       "      <th>favCount</th>\n",
       "      <th>Video_length</th>\n",
       "      <th>Date_published_formatted</th>\n",
       "      <th>weekday</th>\n",
       "      <th>day_of_week</th>\n",
       "    </tr>\n",
       "  </thead>\n",
       "  <tbody>\n",
       "    <tr>\n",
       "      <th>0</th>\n",
       "      <td>2017-12-20T16:00:05.000Z</td>\n",
       "      <td>Everyday Struggle Top 10 Moments of 2017</td>\n",
       "      <td>211814</td>\n",
       "      <td>5305</td>\n",
       "      <td>26566</td>\n",
       "      <td>0</td>\n",
       "      <td>PT31M36S</td>\n",
       "      <td>2017-12-20 16:00:05</td>\n",
       "      <td>2</td>\n",
       "      <td>Wednesday</td>\n",
       "    </tr>\n",
       "    <tr>\n",
       "      <th>1</th>\n",
       "      <td>2017-12-20T00:00:23.000Z</td>\n",
       "      <td>Quavo &amp; Lil Yachty Drop Cold New Video for Joe...</td>\n",
       "      <td>73327</td>\n",
       "      <td>551</td>\n",
       "      <td>1932</td>\n",
       "      <td>0</td>\n",
       "      <td>PT1M47S</td>\n",
       "      <td>2017-12-20 00:00:23</td>\n",
       "      <td>2</td>\n",
       "      <td>Wednesday</td>\n",
       "    </tr>\n",
       "    <tr>\n",
       "      <th>2</th>\n",
       "      <td>2017-12-18T15:18:03.000Z</td>\n",
       "      <td>Eminem Revival Reactions, XXXTentacion Sent to...</td>\n",
       "      <td>475570</td>\n",
       "      <td>4983</td>\n",
       "      <td>9848</td>\n",
       "      <td>0</td>\n",
       "      <td>PT56M7S</td>\n",
       "      <td>2017-12-18 15:18:03</td>\n",
       "      <td>0</td>\n",
       "      <td>Monday</td>\n",
       "    </tr>\n",
       "    <tr>\n",
       "      <th>3</th>\n",
       "      <td>2017-12-14T16:09:39.000Z</td>\n",
       "      <td>Best Albums and Songs of 2017, Tory Lanez Biti...</td>\n",
       "      <td>417192</td>\n",
       "      <td>4352</td>\n",
       "      <td>678</td>\n",
       "      <td>0</td>\n",
       "      <td>PT1H3M13S</td>\n",
       "      <td>2017-12-14 16:09:39</td>\n",
       "      <td>3</td>\n",
       "      <td>Thursday</td>\n",
       "    </tr>\n",
       "    <tr>\n",
       "      <th>4</th>\n",
       "      <td>2017-12-13T16:00:01.000Z</td>\n",
       "      <td>Jeezy Show Recap, Budden Not Here For Woke Emi...</td>\n",
       "      <td>489203</td>\n",
       "      <td>5256</td>\n",
       "      <td>540</td>\n",
       "      <td>0</td>\n",
       "      <td>PT1H3M45S</td>\n",
       "      <td>2017-12-13 16:00:01</td>\n",
       "      <td>2</td>\n",
       "      <td>Wednesday</td>\n",
       "    </tr>\n",
       "  </tbody>\n",
       "</table>\n",
       "</div>"
      ],
      "text/plain": [
       "             Date_published  \\\n",
       "0  2017-12-20T16:00:05.000Z   \n",
       "1  2017-12-20T00:00:23.000Z   \n",
       "2  2017-12-18T15:18:03.000Z   \n",
       "3  2017-12-14T16:09:39.000Z   \n",
       "4  2017-12-13T16:00:01.000Z   \n",
       "\n",
       "                                               title  viewCount  commentCount  \\\n",
       "0           Everyday Struggle Top 10 Moments of 2017     211814          5305   \n",
       "1  Quavo & Lil Yachty Drop Cold New Video for Joe...      73327           551   \n",
       "2  Eminem Revival Reactions, XXXTentacion Sent to...     475570          4983   \n",
       "3  Best Albums and Songs of 2017, Tory Lanez Biti...     417192          4352   \n",
       "4  Jeezy Show Recap, Budden Not Here For Woke Emi...     489203          5256   \n",
       "\n",
       "   dislikeCount  favCount Video_length Date_published_formatted  weekday  \\\n",
       "0         26566         0     PT31M36S      2017-12-20 16:00:05        2   \n",
       "1          1932         0      PT1M47S      2017-12-20 00:00:23        2   \n",
       "2          9848         0      PT56M7S      2017-12-18 15:18:03        0   \n",
       "3           678         0    PT1H3M13S      2017-12-14 16:09:39        3   \n",
       "4           540         0    PT1H3M45S      2017-12-13 16:00:01        2   \n",
       "\n",
       "  day_of_week  \n",
       "0   Wednesday  \n",
       "1   Wednesday  \n",
       "2      Monday  \n",
       "3    Thursday  \n",
       "4   Wednesday  "
      ]
     },
     "execution_count": 17,
     "metadata": {},
     "output_type": "execute_result"
    }
   ],
   "source": [
    "dfJoe.head()"
   ]
  },
  {
   "cell_type": "code",
   "execution_count": 18,
   "metadata": {},
   "outputs": [
    {
     "data": {
      "text/html": [
       "<div>\n",
       "<style>\n",
       "    .dataframe thead tr:only-child th {\n",
       "        text-align: right;\n",
       "    }\n",
       "\n",
       "    .dataframe thead th {\n",
       "        text-align: left;\n",
       "    }\n",
       "\n",
       "    .dataframe tbody tr th {\n",
       "        vertical-align: top;\n",
       "    }\n",
       "</style>\n",
       "<table border=\"1\" class=\"dataframe\">\n",
       "  <thead>\n",
       "    <tr style=\"text-align: right;\">\n",
       "      <th></th>\n",
       "      <th>Date_published</th>\n",
       "      <th>title</th>\n",
       "      <th>viewCount</th>\n",
       "      <th>commentCount</th>\n",
       "      <th>dislikeCount</th>\n",
       "      <th>favCount</th>\n",
       "      <th>Video_length</th>\n",
       "      <th>Date_published_formatted</th>\n",
       "      <th>weekday</th>\n",
       "      <th>day_of_week</th>\n",
       "    </tr>\n",
       "  </thead>\n",
       "  <tbody>\n",
       "    <tr>\n",
       "      <th>176</th>\n",
       "      <td>2017-04-10T15:00:03.000Z</td>\n",
       "      <td>Everyday Struggle EP 101 | Joe Budden &amp; DJ Aka...</td>\n",
       "      <td>472766</td>\n",
       "      <td>3770</td>\n",
       "      <td>231</td>\n",
       "      <td>0</td>\n",
       "      <td>PT31M42S</td>\n",
       "      <td>2017-04-10 15:00:03</td>\n",
       "      <td>0</td>\n",
       "      <td>Monday</td>\n",
       "    </tr>\n",
       "    <tr>\n",
       "      <th>177</th>\n",
       "      <td>2017-04-10T15:00:03.000Z</td>\n",
       "      <td>Everyday Struggle EP 101 | Joe Budden &amp; DJ Aka...</td>\n",
       "      <td>472766</td>\n",
       "      <td>3770</td>\n",
       "      <td>231</td>\n",
       "      <td>0</td>\n",
       "      <td>PT31M42S</td>\n",
       "      <td>2017-04-10 15:00:03</td>\n",
       "      <td>0</td>\n",
       "      <td>Monday</td>\n",
       "    </tr>\n",
       "    <tr>\n",
       "      <th>178</th>\n",
       "      <td>2017-04-10T15:00:03.000Z</td>\n",
       "      <td>Everyday Struggle EP 101 | Joe Budden &amp; DJ Aka...</td>\n",
       "      <td>472766</td>\n",
       "      <td>3770</td>\n",
       "      <td>231</td>\n",
       "      <td>0</td>\n",
       "      <td>PT31M42S</td>\n",
       "      <td>2017-04-10 15:00:03</td>\n",
       "      <td>0</td>\n",
       "      <td>Monday</td>\n",
       "    </tr>\n",
       "    <tr>\n",
       "      <th>179</th>\n",
       "      <td>2017-04-10T15:00:03.000Z</td>\n",
       "      <td>Everyday Struggle EP 101 | Joe Budden &amp; DJ Aka...</td>\n",
       "      <td>472766</td>\n",
       "      <td>3770</td>\n",
       "      <td>231</td>\n",
       "      <td>0</td>\n",
       "      <td>PT31M42S</td>\n",
       "      <td>2017-04-10 15:00:03</td>\n",
       "      <td>0</td>\n",
       "      <td>Monday</td>\n",
       "    </tr>\n",
       "    <tr>\n",
       "      <th>180</th>\n",
       "      <td>2017-04-10T15:00:03.000Z</td>\n",
       "      <td>Everyday Struggle EP 101 | Joe Budden &amp; DJ Aka...</td>\n",
       "      <td>472766</td>\n",
       "      <td>3770</td>\n",
       "      <td>231</td>\n",
       "      <td>0</td>\n",
       "      <td>PT31M42S</td>\n",
       "      <td>2017-04-10 15:00:03</td>\n",
       "      <td>0</td>\n",
       "      <td>Monday</td>\n",
       "    </tr>\n",
       "  </tbody>\n",
       "</table>\n",
       "</div>"
      ],
      "text/plain": [
       "               Date_published  \\\n",
       "176  2017-04-10T15:00:03.000Z   \n",
       "177  2017-04-10T15:00:03.000Z   \n",
       "178  2017-04-10T15:00:03.000Z   \n",
       "179  2017-04-10T15:00:03.000Z   \n",
       "180  2017-04-10T15:00:03.000Z   \n",
       "\n",
       "                                                 title  viewCount  \\\n",
       "176  Everyday Struggle EP 101 | Joe Budden & DJ Aka...     472766   \n",
       "177  Everyday Struggle EP 101 | Joe Budden & DJ Aka...     472766   \n",
       "178  Everyday Struggle EP 101 | Joe Budden & DJ Aka...     472766   \n",
       "179  Everyday Struggle EP 101 | Joe Budden & DJ Aka...     472766   \n",
       "180  Everyday Struggle EP 101 | Joe Budden & DJ Aka...     472766   \n",
       "\n",
       "     commentCount  dislikeCount  favCount Video_length  \\\n",
       "176          3770           231         0     PT31M42S   \n",
       "177          3770           231         0     PT31M42S   \n",
       "178          3770           231         0     PT31M42S   \n",
       "179          3770           231         0     PT31M42S   \n",
       "180          3770           231         0     PT31M42S   \n",
       "\n",
       "    Date_published_formatted  weekday day_of_week  \n",
       "176      2017-04-10 15:00:03        0      Monday  \n",
       "177      2017-04-10 15:00:03        0      Monday  \n",
       "178      2017-04-10 15:00:03        0      Monday  \n",
       "179      2017-04-10 15:00:03        0      Monday  \n",
       "180      2017-04-10 15:00:03        0      Monday  "
      ]
     },
     "execution_count": 18,
     "metadata": {},
     "output_type": "execute_result"
    }
   ],
   "source": [
    "dfJoe.tail()"
   ]
  },
  {
   "cell_type": "code",
   "execution_count": 19,
   "metadata": {
    "collapsed": true
   },
   "outputs": [],
   "source": [
    "#dfJoe1=dfJoe.groupby(pd.Grouper(freq='M'))"
   ]
  },
  {
   "cell_type": "code",
   "execution_count": 20,
   "metadata": {
    "collapsed": true
   },
   "outputs": [],
   "source": [
    "dfJoe1=dfJoe.set_index('Date_published_formatted')"
   ]
  },
  {
   "cell_type": "code",
   "execution_count": 21,
   "metadata": {},
   "outputs": [
    {
     "data": {
      "text/html": [
       "<div>\n",
       "<style>\n",
       "    .dataframe thead tr:only-child th {\n",
       "        text-align: right;\n",
       "    }\n",
       "\n",
       "    .dataframe thead th {\n",
       "        text-align: left;\n",
       "    }\n",
       "\n",
       "    .dataframe tbody tr th {\n",
       "        vertical-align: top;\n",
       "    }\n",
       "</style>\n",
       "<table border=\"1\" class=\"dataframe\">\n",
       "  <thead>\n",
       "    <tr style=\"text-align: right;\">\n",
       "      <th></th>\n",
       "      <th>Date_published</th>\n",
       "      <th>title</th>\n",
       "      <th>viewCount</th>\n",
       "      <th>commentCount</th>\n",
       "      <th>dislikeCount</th>\n",
       "      <th>favCount</th>\n",
       "      <th>Video_length</th>\n",
       "      <th>weekday</th>\n",
       "      <th>day_of_week</th>\n",
       "    </tr>\n",
       "    <tr>\n",
       "      <th>Date_published_formatted</th>\n",
       "      <th></th>\n",
       "      <th></th>\n",
       "      <th></th>\n",
       "      <th></th>\n",
       "      <th></th>\n",
       "      <th></th>\n",
       "      <th></th>\n",
       "      <th></th>\n",
       "      <th></th>\n",
       "    </tr>\n",
       "  </thead>\n",
       "  <tbody>\n",
       "    <tr>\n",
       "      <th>2017-12-20 16:00:05</th>\n",
       "      <td>2017-12-20T16:00:05.000Z</td>\n",
       "      <td>Everyday Struggle Top 10 Moments of 2017</td>\n",
       "      <td>211814</td>\n",
       "      <td>5305</td>\n",
       "      <td>26566</td>\n",
       "      <td>0</td>\n",
       "      <td>PT31M36S</td>\n",
       "      <td>2</td>\n",
       "      <td>Wednesday</td>\n",
       "    </tr>\n",
       "    <tr>\n",
       "      <th>2017-12-20 00:00:23</th>\n",
       "      <td>2017-12-20T00:00:23.000Z</td>\n",
       "      <td>Quavo &amp; Lil Yachty Drop Cold New Video for Joe...</td>\n",
       "      <td>73327</td>\n",
       "      <td>551</td>\n",
       "      <td>1932</td>\n",
       "      <td>0</td>\n",
       "      <td>PT1M47S</td>\n",
       "      <td>2</td>\n",
       "      <td>Wednesday</td>\n",
       "    </tr>\n",
       "    <tr>\n",
       "      <th>2017-12-18 15:18:03</th>\n",
       "      <td>2017-12-18T15:18:03.000Z</td>\n",
       "      <td>Eminem Revival Reactions, XXXTentacion Sent to...</td>\n",
       "      <td>475570</td>\n",
       "      <td>4983</td>\n",
       "      <td>9848</td>\n",
       "      <td>0</td>\n",
       "      <td>PT56M7S</td>\n",
       "      <td>0</td>\n",
       "      <td>Monday</td>\n",
       "    </tr>\n",
       "    <tr>\n",
       "      <th>2017-12-14 16:09:39</th>\n",
       "      <td>2017-12-14T16:09:39.000Z</td>\n",
       "      <td>Best Albums and Songs of 2017, Tory Lanez Biti...</td>\n",
       "      <td>417192</td>\n",
       "      <td>4352</td>\n",
       "      <td>678</td>\n",
       "      <td>0</td>\n",
       "      <td>PT1H3M13S</td>\n",
       "      <td>3</td>\n",
       "      <td>Thursday</td>\n",
       "    </tr>\n",
       "    <tr>\n",
       "      <th>2017-12-13 16:00:01</th>\n",
       "      <td>2017-12-13T16:00:01.000Z</td>\n",
       "      <td>Jeezy Show Recap, Budden Not Here For Woke Emi...</td>\n",
       "      <td>489203</td>\n",
       "      <td>5256</td>\n",
       "      <td>540</td>\n",
       "      <td>0</td>\n",
       "      <td>PT1H3M45S</td>\n",
       "      <td>2</td>\n",
       "      <td>Wednesday</td>\n",
       "    </tr>\n",
       "  </tbody>\n",
       "</table>\n",
       "</div>"
      ],
      "text/plain": [
       "                                    Date_published  \\\n",
       "Date_published_formatted                             \n",
       "2017-12-20 16:00:05       2017-12-20T16:00:05.000Z   \n",
       "2017-12-20 00:00:23       2017-12-20T00:00:23.000Z   \n",
       "2017-12-18 15:18:03       2017-12-18T15:18:03.000Z   \n",
       "2017-12-14 16:09:39       2017-12-14T16:09:39.000Z   \n",
       "2017-12-13 16:00:01       2017-12-13T16:00:01.000Z   \n",
       "\n",
       "                                                                      title  \\\n",
       "Date_published_formatted                                                      \n",
       "2017-12-20 16:00:05                Everyday Struggle Top 10 Moments of 2017   \n",
       "2017-12-20 00:00:23       Quavo & Lil Yachty Drop Cold New Video for Joe...   \n",
       "2017-12-18 15:18:03       Eminem Revival Reactions, XXXTentacion Sent to...   \n",
       "2017-12-14 16:09:39       Best Albums and Songs of 2017, Tory Lanez Biti...   \n",
       "2017-12-13 16:00:01       Jeezy Show Recap, Budden Not Here For Woke Emi...   \n",
       "\n",
       "                          viewCount  commentCount  dislikeCount  favCount  \\\n",
       "Date_published_formatted                                                    \n",
       "2017-12-20 16:00:05          211814          5305         26566         0   \n",
       "2017-12-20 00:00:23           73327           551          1932         0   \n",
       "2017-12-18 15:18:03          475570          4983          9848         0   \n",
       "2017-12-14 16:09:39          417192          4352           678         0   \n",
       "2017-12-13 16:00:01          489203          5256           540         0   \n",
       "\n",
       "                         Video_length  weekday day_of_week  \n",
       "Date_published_formatted                                    \n",
       "2017-12-20 16:00:05          PT31M36S        2   Wednesday  \n",
       "2017-12-20 00:00:23           PT1M47S        2   Wednesday  \n",
       "2017-12-18 15:18:03           PT56M7S        0      Monday  \n",
       "2017-12-14 16:09:39         PT1H3M13S        3    Thursday  \n",
       "2017-12-13 16:00:01         PT1H3M45S        2   Wednesday  "
      ]
     },
     "execution_count": 21,
     "metadata": {},
     "output_type": "execute_result"
    }
   ],
   "source": [
    "dfJoe1.head()"
   ]
  },
  {
   "cell_type": "code",
   "execution_count": 22,
   "metadata": {
    "collapsed": true
   },
   "outputs": [],
   "source": [
    "dfJoe2=dfJoe1.resample('M').mean()"
   ]
  },
  {
   "cell_type": "code",
   "execution_count": 23,
   "metadata": {},
   "outputs": [
    {
     "data": {
      "text/html": [
       "<div>\n",
       "<style>\n",
       "    .dataframe thead tr:only-child th {\n",
       "        text-align: right;\n",
       "    }\n",
       "\n",
       "    .dataframe thead th {\n",
       "        text-align: left;\n",
       "    }\n",
       "\n",
       "    .dataframe tbody tr th {\n",
       "        vertical-align: top;\n",
       "    }\n",
       "</style>\n",
       "<table border=\"1\" class=\"dataframe\">\n",
       "  <thead>\n",
       "    <tr style=\"text-align: right;\">\n",
       "      <th></th>\n",
       "      <th>viewCount</th>\n",
       "      <th>commentCount</th>\n",
       "      <th>dislikeCount</th>\n",
       "      <th>favCount</th>\n",
       "      <th>weekday</th>\n",
       "    </tr>\n",
       "    <tr>\n",
       "      <th>Date_published_formatted</th>\n",
       "      <th></th>\n",
       "      <th></th>\n",
       "      <th></th>\n",
       "      <th></th>\n",
       "      <th></th>\n",
       "    </tr>\n",
       "  </thead>\n",
       "  <tbody>\n",
       "    <tr>\n",
       "      <th>2017-04-30</th>\n",
       "      <td>324806.148148</td>\n",
       "      <td>2530.814815</td>\n",
       "      <td>177.185185</td>\n",
       "      <td>0.0</td>\n",
       "      <td>1.666667</td>\n",
       "    </tr>\n",
       "    <tr>\n",
       "      <th>2017-05-31</th>\n",
       "      <td>415431.250000</td>\n",
       "      <td>4116.500000</td>\n",
       "      <td>305.000000</td>\n",
       "      <td>0.0</td>\n",
       "      <td>1.916667</td>\n",
       "    </tr>\n",
       "    <tr>\n",
       "      <th>2017-06-30</th>\n",
       "      <td>697377.565217</td>\n",
       "      <td>4551.217391</td>\n",
       "      <td>924.565217</td>\n",
       "      <td>0.0</td>\n",
       "      <td>2.043478</td>\n",
       "    </tr>\n",
       "    <tr>\n",
       "      <th>2017-07-31</th>\n",
       "      <td>528332.875000</td>\n",
       "      <td>4062.562500</td>\n",
       "      <td>1067.125000</td>\n",
       "      <td>0.0</td>\n",
       "      <td>1.437500</td>\n",
       "    </tr>\n",
       "    <tr>\n",
       "      <th>2017-08-31</th>\n",
       "      <td>407053.750000</td>\n",
       "      <td>3173.450000</td>\n",
       "      <td>330.550000</td>\n",
       "      <td>0.0</td>\n",
       "      <td>1.700000</td>\n",
       "    </tr>\n",
       "  </tbody>\n",
       "</table>\n",
       "</div>"
      ],
      "text/plain": [
       "                              viewCount  commentCount  dislikeCount  favCount  \\\n",
       "Date_published_formatted                                                        \n",
       "2017-04-30                324806.148148   2530.814815    177.185185       0.0   \n",
       "2017-05-31                415431.250000   4116.500000    305.000000       0.0   \n",
       "2017-06-30                697377.565217   4551.217391    924.565217       0.0   \n",
       "2017-07-31                528332.875000   4062.562500   1067.125000       0.0   \n",
       "2017-08-31                407053.750000   3173.450000    330.550000       0.0   \n",
       "\n",
       "                           weekday  \n",
       "Date_published_formatted            \n",
       "2017-04-30                1.666667  \n",
       "2017-05-31                1.916667  \n",
       "2017-06-30                2.043478  \n",
       "2017-07-31                1.437500  \n",
       "2017-08-31                1.700000  "
      ]
     },
     "execution_count": 23,
     "metadata": {},
     "output_type": "execute_result"
    }
   ],
   "source": [
    "dfJoe2.head()"
   ]
  },
  {
   "cell_type": "code",
   "execution_count": 24,
   "metadata": {},
   "outputs": [
    {
     "data": {
      "text/plain": [
       "<matplotlib.axes._subplots.AxesSubplot at 0x1123625d0>"
      ]
     },
     "execution_count": 24,
     "metadata": {},
     "output_type": "execute_result"
    },
    {
     "data": {
      "image/png": "[encoded data removed]",
      "text/plain": [
       "<matplotlib.figure.Figure at 0x11235ae10>"
      ]
     },
     "metadata": {},
     "output_type": "display_data"
    }
   ],
   "source": [
    "%matplotlib inline\n",
    "dfJoe2.viewCount.plot()"
   ]
  },
  {
   "cell_type": "code",
   "execution_count": 25,
   "metadata": {},
   "outputs": [
    {
     "name": "stderr",
     "output_type": "stream",
     "text": [
      "/Users/emechebe/anaconda2/lib/python2.7/site-packages/ipykernel_launcher.py:2: SettingWithCopyWarning: \n",
      "A value is trying to be set on a copy of a slice from a DataFrame.\n",
      "Try using .loc[row_indexer,col_indexer] = value instead\n",
      "\n",
      "See the caveats in the documentation: http://pandas.pydata.org/pandas-docs/stable/indexing.html#indexing-view-versus-copy\n",
      "  \n"
     ]
    }
   ],
   "source": [
    "# Create a new column in the dataset that is in the datetime format\n",
    "dfNoJoe1['Date_published_formatted'] =  pd.to_datetime(dfNoJoe1.Date_published)"
   ]
  },
  {
   "cell_type": "code",
   "execution_count": 26,
   "metadata": {},
   "outputs": [
    {
     "data": {
      "text/html": [
       "<div>\n",
       "<style>\n",
       "    .dataframe thead tr:only-child th {\n",
       "        text-align: right;\n",
       "    }\n",
       "\n",
       "    .dataframe thead th {\n",
       "        text-align: left;\n",
       "    }\n",
       "\n",
       "    .dataframe tbody tr th {\n",
       "        vertical-align: top;\n",
       "    }\n",
       "</style>\n",
       "<table border=\"1\" class=\"dataframe\">\n",
       "  <thead>\n",
       "    <tr style=\"text-align: right;\">\n",
       "      <th></th>\n",
       "      <th>Date_published</th>\n",
       "      <th>title</th>\n",
       "      <th>viewCount</th>\n",
       "      <th>commentCount</th>\n",
       "      <th>dislikeCount</th>\n",
       "      <th>favCount</th>\n",
       "      <th>Video_length</th>\n",
       "      <th>Date_published_formatted</th>\n",
       "    </tr>\n",
       "  </thead>\n",
       "  <tbody>\n",
       "    <tr>\n",
       "      <th>0</th>\n",
       "      <td>2018-06-19T15:00:11.000Z</td>\n",
       "      <td>DJ Akademiks Reacts to XXXTentacion's Tragic D...</td>\n",
       "      <td>349957</td>\n",
       "      <td>3700</td>\n",
       "      <td>555</td>\n",
       "      <td>0</td>\n",
       "      <td>PT36M4S</td>\n",
       "      <td>2018-06-19 15:00:11</td>\n",
       "    </tr>\n",
       "    <tr>\n",
       "      <th>1</th>\n",
       "      <td>2018-06-18T15:00:03.000Z</td>\n",
       "      <td>Jay Z &amp; Beyoncé Surprise Album, Drake Calls Ak...</td>\n",
       "      <td>204211</td>\n",
       "      <td>1515</td>\n",
       "      <td>574</td>\n",
       "      <td>0</td>\n",
       "      <td>PT49M37S</td>\n",
       "      <td>2018-06-18 15:00:03</td>\n",
       "    </tr>\n",
       "    <tr>\n",
       "      <th>2</th>\n",
       "      <td>2018-06-14T15:00:05.000Z</td>\n",
       "      <td>Nicki Minaj Defending Meek's Judge? Tekashi 69...</td>\n",
       "      <td>174780</td>\n",
       "      <td>1386</td>\n",
       "      <td>473</td>\n",
       "      <td>0</td>\n",
       "      <td>PT49M</td>\n",
       "      <td>2018-06-14 15:00:05</td>\n",
       "    </tr>\n",
       "    <tr>\n",
       "      <th>3</th>\n",
       "      <td>2018-06-13T15:00:12.000Z</td>\n",
       "      <td>XXL Freshman List Reactions - Who Got Snubbed?...</td>\n",
       "      <td>169036</td>\n",
       "      <td>1600</td>\n",
       "      <td>562</td>\n",
       "      <td>0</td>\n",
       "      <td>PT48M59S</td>\n",
       "      <td>2018-06-13 15:00:12</td>\n",
       "    </tr>\n",
       "    <tr>\n",
       "      <th>4</th>\n",
       "      <td>2018-06-12T15:00:05.000Z</td>\n",
       "      <td>'Kids See Ghosts' Album Hot or Nah? Does 69 Ne...</td>\n",
       "      <td>140034</td>\n",
       "      <td>2057</td>\n",
       "      <td>1908</td>\n",
       "      <td>0</td>\n",
       "      <td>PT58M3S</td>\n",
       "      <td>2018-06-12 15:00:05</td>\n",
       "    </tr>\n",
       "  </tbody>\n",
       "</table>\n",
       "</div>"
      ],
      "text/plain": [
       "             Date_published  \\\n",
       "0  2018-06-19T15:00:11.000Z   \n",
       "1  2018-06-18T15:00:03.000Z   \n",
       "2  2018-06-14T15:00:05.000Z   \n",
       "3  2018-06-13T15:00:12.000Z   \n",
       "4  2018-06-12T15:00:05.000Z   \n",
       "\n",
       "                                               title  viewCount  commentCount  \\\n",
       "0  DJ Akademiks Reacts to XXXTentacion's Tragic D...     349957          3700   \n",
       "1  Jay Z & Beyoncé Surprise Album, Drake Calls Ak...     204211          1515   \n",
       "2  Nicki Minaj Defending Meek's Judge? Tekashi 69...     174780          1386   \n",
       "3  XXL Freshman List Reactions - Who Got Snubbed?...     169036          1600   \n",
       "4  'Kids See Ghosts' Album Hot or Nah? Does 69 Ne...     140034          2057   \n",
       "\n",
       "   dislikeCount  favCount Video_length Date_published_formatted  \n",
       "0           555         0      PT36M4S      2018-06-19 15:00:11  \n",
       "1           574         0     PT49M37S      2018-06-18 15:00:03  \n",
       "2           473         0        PT49M      2018-06-14 15:00:05  \n",
       "3           562         0     PT48M59S      2018-06-13 15:00:12  \n",
       "4          1908         0      PT58M3S      2018-06-12 15:00:05  "
      ]
     },
     "execution_count": 26,
     "metadata": {},
     "output_type": "execute_result"
    }
   ],
   "source": [
    "dfNoJoe1.head()"
   ]
  },
  {
   "cell_type": "code",
   "execution_count": 27,
   "metadata": {
    "collapsed": true
   },
   "outputs": [],
   "source": [
    "dfNoJoe2=dfNoJoe1.set_index('Date_published_formatted')"
   ]
  },
  {
   "cell_type": "code",
   "execution_count": 28,
   "metadata": {},
   "outputs": [
    {
     "data": {
      "text/html": [
       "<div>\n",
       "<style>\n",
       "    .dataframe thead tr:only-child th {\n",
       "        text-align: right;\n",
       "    }\n",
       "\n",
       "    .dataframe thead th {\n",
       "        text-align: left;\n",
       "    }\n",
       "\n",
       "    .dataframe tbody tr th {\n",
       "        vertical-align: top;\n",
       "    }\n",
       "</style>\n",
       "<table border=\"1\" class=\"dataframe\">\n",
       "  <thead>\n",
       "    <tr style=\"text-align: right;\">\n",
       "      <th></th>\n",
       "      <th>Date_published</th>\n",
       "      <th>title</th>\n",
       "      <th>viewCount</th>\n",
       "      <th>commentCount</th>\n",
       "      <th>dislikeCount</th>\n",
       "      <th>favCount</th>\n",
       "      <th>Video_length</th>\n",
       "    </tr>\n",
       "    <tr>\n",
       "      <th>Date_published_formatted</th>\n",
       "      <th></th>\n",
       "      <th></th>\n",
       "      <th></th>\n",
       "      <th></th>\n",
       "      <th></th>\n",
       "      <th></th>\n",
       "      <th></th>\n",
       "    </tr>\n",
       "  </thead>\n",
       "  <tbody>\n",
       "    <tr>\n",
       "      <th>2018-06-19 15:00:11</th>\n",
       "      <td>2018-06-19T15:00:11.000Z</td>\n",
       "      <td>DJ Akademiks Reacts to XXXTentacion's Tragic D...</td>\n",
       "      <td>349957</td>\n",
       "      <td>3700</td>\n",
       "      <td>555</td>\n",
       "      <td>0</td>\n",
       "      <td>PT36M4S</td>\n",
       "    </tr>\n",
       "    <tr>\n",
       "      <th>2018-06-18 15:00:03</th>\n",
       "      <td>2018-06-18T15:00:03.000Z</td>\n",
       "      <td>Jay Z &amp; Beyoncé Surprise Album, Drake Calls Ak...</td>\n",
       "      <td>204211</td>\n",
       "      <td>1515</td>\n",
       "      <td>574</td>\n",
       "      <td>0</td>\n",
       "      <td>PT49M37S</td>\n",
       "    </tr>\n",
       "    <tr>\n",
       "      <th>2018-06-14 15:00:05</th>\n",
       "      <td>2018-06-14T15:00:05.000Z</td>\n",
       "      <td>Nicki Minaj Defending Meek's Judge? Tekashi 69...</td>\n",
       "      <td>174780</td>\n",
       "      <td>1386</td>\n",
       "      <td>473</td>\n",
       "      <td>0</td>\n",
       "      <td>PT49M</td>\n",
       "    </tr>\n",
       "    <tr>\n",
       "      <th>2018-06-13 15:00:12</th>\n",
       "      <td>2018-06-13T15:00:12.000Z</td>\n",
       "      <td>XXL Freshman List Reactions - Who Got Snubbed?...</td>\n",
       "      <td>169036</td>\n",
       "      <td>1600</td>\n",
       "      <td>562</td>\n",
       "      <td>0</td>\n",
       "      <td>PT48M59S</td>\n",
       "    </tr>\n",
       "    <tr>\n",
       "      <th>2018-06-12 15:00:05</th>\n",
       "      <td>2018-06-12T15:00:05.000Z</td>\n",
       "      <td>'Kids See Ghosts' Album Hot or Nah? Does 69 Ne...</td>\n",
       "      <td>140034</td>\n",
       "      <td>2057</td>\n",
       "      <td>1908</td>\n",
       "      <td>0</td>\n",
       "      <td>PT58M3S</td>\n",
       "    </tr>\n",
       "  </tbody>\n",
       "</table>\n",
       "</div>"
      ],
      "text/plain": [
       "                                    Date_published  \\\n",
       "Date_published_formatted                             \n",
       "2018-06-19 15:00:11       2018-06-19T15:00:11.000Z   \n",
       "2018-06-18 15:00:03       2018-06-18T15:00:03.000Z   \n",
       "2018-06-14 15:00:05       2018-06-14T15:00:05.000Z   \n",
       "2018-06-13 15:00:12       2018-06-13T15:00:12.000Z   \n",
       "2018-06-12 15:00:05       2018-06-12T15:00:05.000Z   \n",
       "\n",
       "                                                                      title  \\\n",
       "Date_published_formatted                                                      \n",
       "2018-06-19 15:00:11       DJ Akademiks Reacts to XXXTentacion's Tragic D...   \n",
       "2018-06-18 15:00:03       Jay Z & Beyoncé Surprise Album, Drake Calls Ak...   \n",
       "2018-06-14 15:00:05       Nicki Minaj Defending Meek's Judge? Tekashi 69...   \n",
       "2018-06-13 15:00:12       XXL Freshman List Reactions - Who Got Snubbed?...   \n",
       "2018-06-12 15:00:05       'Kids See Ghosts' Album Hot or Nah? Does 69 Ne...   \n",
       "\n",
       "                          viewCount  commentCount  dislikeCount  favCount  \\\n",
       "Date_published_formatted                                                    \n",
       "2018-06-19 15:00:11          349957          3700           555         0   \n",
       "2018-06-18 15:00:03          204211          1515           574         0   \n",
       "2018-06-14 15:00:05          174780          1386           473         0   \n",
       "2018-06-13 15:00:12          169036          1600           562         0   \n",
       "2018-06-12 15:00:05          140034          2057          1908         0   \n",
       "\n",
       "                         Video_length  \n",
       "Date_published_formatted               \n",
       "2018-06-19 15:00:11           PT36M4S  \n",
       "2018-06-18 15:00:03          PT49M37S  \n",
       "2018-06-14 15:00:05             PT49M  \n",
       "2018-06-13 15:00:12          PT48M59S  \n",
       "2018-06-12 15:00:05           PT58M3S  "
      ]
     },
     "execution_count": 28,
     "metadata": {},
     "output_type": "execute_result"
    }
   ],
   "source": [
    "dfNoJoe2.head()"
   ]
  },
  {
   "cell_type": "code",
   "execution_count": 29,
   "metadata": {
    "collapsed": true
   },
   "outputs": [],
   "source": [
    "dfNoJoe3=dfNoJoe2.resample('M').mean()"
   ]
  },
  {
   "cell_type": "code",
   "execution_count": 30,
   "metadata": {},
   "outputs": [
    {
     "data": {
      "text/html": [
       "<div>\n",
       "<style>\n",
       "    .dataframe thead tr:only-child th {\n",
       "        text-align: right;\n",
       "    }\n",
       "\n",
       "    .dataframe thead th {\n",
       "        text-align: left;\n",
       "    }\n",
       "\n",
       "    .dataframe tbody tr th {\n",
       "        vertical-align: top;\n",
       "    }\n",
       "</style>\n",
       "<table border=\"1\" class=\"dataframe\">\n",
       "  <thead>\n",
       "    <tr style=\"text-align: right;\">\n",
       "      <th></th>\n",
       "      <th>viewCount</th>\n",
       "      <th>commentCount</th>\n",
       "      <th>dislikeCount</th>\n",
       "      <th>favCount</th>\n",
       "    </tr>\n",
       "    <tr>\n",
       "      <th>Date_published_formatted</th>\n",
       "      <th></th>\n",
       "      <th></th>\n",
       "      <th></th>\n",
       "      <th></th>\n",
       "    </tr>\n",
       "  </thead>\n",
       "  <tbody>\n",
       "    <tr>\n",
       "      <th>2017-12-31</th>\n",
       "      <td>395383.375000</td>\n",
       "      <td>4307.812500</td>\n",
       "      <td>8512.625000</td>\n",
       "      <td>0.0</td>\n",
       "    </tr>\n",
       "    <tr>\n",
       "      <th>2018-01-31</th>\n",
       "      <td>283359.142857</td>\n",
       "      <td>7356.142857</td>\n",
       "      <td>11121.428571</td>\n",
       "      <td>0.0</td>\n",
       "    </tr>\n",
       "    <tr>\n",
       "      <th>2018-02-28</th>\n",
       "      <td>229493.214286</td>\n",
       "      <td>2316.285714</td>\n",
       "      <td>3260.428571</td>\n",
       "      <td>0.0</td>\n",
       "    </tr>\n",
       "    <tr>\n",
       "      <th>2018-03-31</th>\n",
       "      <td>241261.062500</td>\n",
       "      <td>2482.937500</td>\n",
       "      <td>1474.125000</td>\n",
       "      <td>0.0</td>\n",
       "    </tr>\n",
       "    <tr>\n",
       "      <th>2018-04-30</th>\n",
       "      <td>NaN</td>\n",
       "      <td>NaN</td>\n",
       "      <td>NaN</td>\n",
       "      <td>NaN</td>\n",
       "    </tr>\n",
       "  </tbody>\n",
       "</table>\n",
       "</div>"
      ],
      "text/plain": [
       "                              viewCount  commentCount  dislikeCount  favCount\n",
       "Date_published_formatted                                                     \n",
       "2017-12-31                395383.375000   4307.812500   8512.625000       0.0\n",
       "2018-01-31                283359.142857   7356.142857  11121.428571       0.0\n",
       "2018-02-28                229493.214286   2316.285714   3260.428571       0.0\n",
       "2018-03-31                241261.062500   2482.937500   1474.125000       0.0\n",
       "2018-04-30                          NaN           NaN           NaN       NaN"
      ]
     },
     "execution_count": 30,
     "metadata": {},
     "output_type": "execute_result"
    }
   ],
   "source": [
    "dfNoJoe3.head()"
   ]
  },
  {
   "cell_type": "code",
   "execution_count": 31,
   "metadata": {},
   "outputs": [
    {
     "data": {
      "text/plain": [
       "<matplotlib.axes._subplots.AxesSubplot at 0x1123927d0>"
      ]
     },
     "execution_count": 31,
     "metadata": {},
     "output_type": "execute_result"
    },
    {
     "data": {
      "image/png": "[encoded data removed]",
      "text/plain": [
       "<matplotlib.figure.Figure at 0x112423f50>"
      ]
     },
     "metadata": {},
     "output_type": "display_data"
    }
   ],
   "source": [
    "dfNoJoe3.viewCount.plot()"
   ]
  },
  {
   "cell_type": "code",
   "execution_count": 32,
   "metadata": {
    "collapsed": true
   },
   "outputs": [],
   "source": [
    "# Dislikes????"
   ]
  },
  {
   "cell_type": "code",
   "execution_count": 33,
   "metadata": {},
   "outputs": [
    {
     "data": {
      "text/plain": [
       "<matplotlib.axes._subplots.AxesSubplot at 0x112523e10>"
      ]
     },
     "execution_count": 33,
     "metadata": {},
     "output_type": "execute_result"
    },
    {
     "data": {
      "image/png": "[encoded data removed]",
      "text/plain": [
       "<matplotlib.figure.Figure at 0x11253fd90>"
      ]
     },
     "metadata": {},
     "output_type": "display_data"
    }
   ],
   "source": [
    "dfJoe2.dislikeCount.plot()"
   ]
  },
  {
   "cell_type": "code",
   "execution_count": 34,
   "metadata": {},
   "outputs": [
    {
     "data": {
      "text/plain": [
       "<matplotlib.axes._subplots.AxesSubplot at 0x11253f510>"
      ]
     },
     "execution_count": 34,
     "metadata": {},
     "output_type": "execute_result"
    },
    {
     "data": {
      "image/png": "[encoded data removed]",
      "text/plain": [
       "<matplotlib.figure.Figure at 0x112622910>"
      ]
     },
     "metadata": {},
     "output_type": "display_data"
    }
   ],
   "source": [
    "dfNoJoe3.dislikeCount.plot()"
   ]
  },
  {
   "cell_type": "code",
   "execution_count": 36,
   "metadata": {},
   "outputs": [
    {
     "data": {
      "text/plain": [
       "<matplotlib.axes._subplots.AxesSubplot at 0x112851250>"
      ]
     },
     "execution_count": 36,
     "metadata": {},
     "output_type": "execute_result"
    },
    {
     "data": {
      "image/png": "[encoded data removed]",
      "text/plain": [
       "<matplotlib.figure.Figure at 0x11284cc10>"
      ]
     },
     "metadata": {},
     "output_type": "display_data"
    }
   ],
   "source": [
    "dfNoJoe3.boxplot()"
   ]
  },
  {
   "cell_type": "code",
   "execution_count": 94,
   "metadata": {},
   "outputs": [
    {
     "data": {
      "text/plain": [
       "<matplotlib.axes._subplots.AxesSubplot at 0x1133ada90>"
      ]
     },
     "execution_count": 94,
     "metadata": {},
     "output_type": "execute_result"
    },
    {
     "data": {
      "image/png": "[encoded data removed]",
      "text/plain": [
       "<matplotlib.figure.Figure at 0x1133d7e10>"
      ]
     },
     "metadata": {},
     "output_type": "display_data"
    }
   ],
   "source": [
    "dfJoe2.boxplot()"
   ]
  },
  {
   "cell_type": "code",
   "execution_count": 97,
   "metadata": {},
   "outputs": [],
   "source": [
    "dfJoe2['Date_published'] = dfJoe2.index"
   ]
  },
  {
   "cell_type": "code",
   "execution_count": 99,
   "metadata": {},
   "outputs": [],
   "source": [
    "dfNoJoe3['Date_published'] = dfNoJoe3.index"
   ]
  },
  {
   "cell_type": "code",
   "execution_count": 102,
   "metadata": {},
   "outputs": [],
   "source": [
    "Newdata=pd.merge(dfJoe2, dfNoJoe3, on='Date_published', how='outer')"
   ]
  },
  {
   "cell_type": "code",
   "execution_count": 103,
   "metadata": {},
   "outputs": [
    {
     "data": {
      "text/html": [
       "<div>\n",
       "<style>\n",
       "    .dataframe thead tr:only-child th {\n",
       "        text-align: right;\n",
       "    }\n",
       "\n",
       "    .dataframe thead th {\n",
       "        text-align: left;\n",
       "    }\n",
       "\n",
       "    .dataframe tbody tr th {\n",
       "        vertical-align: top;\n",
       "    }\n",
       "</style>\n",
       "<table border=\"1\" class=\"dataframe\">\n",
       "  <thead>\n",
       "    <tr style=\"text-align: right;\">\n",
       "      <th></th>\n",
       "      <th>viewCount_x</th>\n",
       "      <th>commentCount_x</th>\n",
       "      <th>dislikeCount_x</th>\n",
       "      <th>favCount_x</th>\n",
       "      <th>weekday</th>\n",
       "      <th>Date_published</th>\n",
       "      <th>viewCount_y</th>\n",
       "      <th>commentCount_y</th>\n",
       "      <th>dislikeCount_y</th>\n",
       "      <th>favCount_y</th>\n",
       "    </tr>\n",
       "  </thead>\n",
       "  <tbody>\n",
       "    <tr>\n",
       "      <th>0</th>\n",
       "      <td>324806.148148</td>\n",
       "      <td>2530.814815</td>\n",
       "      <td>177.185185</td>\n",
       "      <td>0.0</td>\n",
       "      <td>1.666667</td>\n",
       "      <td>2017-04-30</td>\n",
       "      <td>NaN</td>\n",
       "      <td>NaN</td>\n",
       "      <td>NaN</td>\n",
       "      <td>NaN</td>\n",
       "    </tr>\n",
       "    <tr>\n",
       "      <th>1</th>\n",
       "      <td>415431.250000</td>\n",
       "      <td>4116.500000</td>\n",
       "      <td>305.000000</td>\n",
       "      <td>0.0</td>\n",
       "      <td>1.916667</td>\n",
       "      <td>2017-05-31</td>\n",
       "      <td>NaN</td>\n",
       "      <td>NaN</td>\n",
       "      <td>NaN</td>\n",
       "      <td>NaN</td>\n",
       "    </tr>\n",
       "    <tr>\n",
       "      <th>2</th>\n",
       "      <td>697377.565217</td>\n",
       "      <td>4551.217391</td>\n",
       "      <td>924.565217</td>\n",
       "      <td>0.0</td>\n",
       "      <td>2.043478</td>\n",
       "      <td>2017-06-30</td>\n",
       "      <td>NaN</td>\n",
       "      <td>NaN</td>\n",
       "      <td>NaN</td>\n",
       "      <td>NaN</td>\n",
       "    </tr>\n",
       "    <tr>\n",
       "      <th>3</th>\n",
       "      <td>528332.875000</td>\n",
       "      <td>4062.562500</td>\n",
       "      <td>1067.125000</td>\n",
       "      <td>0.0</td>\n",
       "      <td>1.437500</td>\n",
       "      <td>2017-07-31</td>\n",
       "      <td>NaN</td>\n",
       "      <td>NaN</td>\n",
       "      <td>NaN</td>\n",
       "      <td>NaN</td>\n",
       "    </tr>\n",
       "    <tr>\n",
       "      <th>4</th>\n",
       "      <td>407053.750000</td>\n",
       "      <td>3173.450000</td>\n",
       "      <td>330.550000</td>\n",
       "      <td>0.0</td>\n",
       "      <td>1.700000</td>\n",
       "      <td>2017-08-31</td>\n",
       "      <td>NaN</td>\n",
       "      <td>NaN</td>\n",
       "      <td>NaN</td>\n",
       "      <td>NaN</td>\n",
       "    </tr>\n",
       "  </tbody>\n",
       "</table>\n",
       "</div>"
      ],
      "text/plain": [
       "     viewCount_x  commentCount_x  dislikeCount_x  favCount_x   weekday  \\\n",
       "0  324806.148148     2530.814815      177.185185         0.0  1.666667   \n",
       "1  415431.250000     4116.500000      305.000000         0.0  1.916667   \n",
       "2  697377.565217     4551.217391      924.565217         0.0  2.043478   \n",
       "3  528332.875000     4062.562500     1067.125000         0.0  1.437500   \n",
       "4  407053.750000     3173.450000      330.550000         0.0  1.700000   \n",
       "\n",
       "  Date_published  viewCount_y  commentCount_y  dislikeCount_y  favCount_y  \n",
       "0     2017-04-30          NaN             NaN             NaN         NaN  \n",
       "1     2017-05-31          NaN             NaN             NaN         NaN  \n",
       "2     2017-06-30          NaN             NaN             NaN         NaN  \n",
       "3     2017-07-31          NaN             NaN             NaN         NaN  \n",
       "4     2017-08-31          NaN             NaN             NaN         NaN  "
      ]
     },
     "execution_count": 103,
     "metadata": {},
     "output_type": "execute_result"
    }
   ],
   "source": [
    "Newdata.head()"
   ]
  },
  {
   "cell_type": "code",
   "execution_count": 104,
   "metadata": {},
   "outputs": [
    {
     "data": {
      "text/plain": [
       "<matplotlib.axes._subplots.AxesSubplot at 0x11375bc90>"
      ]
     },
     "execution_count": 104,
     "metadata": {},
     "output_type": "execute_result"
    },
    {
     "data": {
      "image/png": "[encoded data removed]",
      "text/plain": [
       "<matplotlib.figure.Figure at 0x112bde6d0>"
      ]
     },
     "metadata": {},
     "output_type": "display_data"
    }
   ],
   "source": [
    "Newdata.boxplot()"
   ]
  },
  {
   "cell_type": "code",
   "execution_count": 115,
   "metadata": {},
   "outputs": [],
   "source": [
    "Newdata_views = Newdata[['viewCount_x','viewCount_y']]\n",
    "Newdata_views.columns = ['viewsWithJoe', 'viewsNoJoe']"
   ]
  },
  {
   "cell_type": "code",
   "execution_count": 126,
   "metadata": {},
   "outputs": [
    {
     "data": {
      "text/plain": [
       "<matplotlib.axes._subplots.AxesSubplot at 0x1145ee0d0>"
      ]
     },
     "execution_count": 126,
     "metadata": {},
     "output_type": "execute_result"
    },
    {
     "data": {
      "image/png": "[encoded data removed]",
      "text/plain": [
       "<matplotlib.figure.Figure at 0x1145e4450>"
      ]
     },
     "metadata": {},
     "output_type": "display_data"
    }
   ],
   "source": [
    "#Newdata_views.boxplot()\n",
    "Newdata_views.boxplot()\n"
   ]
  },
  {
   "cell_type": "code",
   "execution_count": 117,
   "metadata": {
    "collapsed": true
   },
   "outputs": [],
   "source": [
    "Newdata_dislikes = Newdata[['dislikeCount_x','dislikeCount_y']]\n",
    "Newdata_dislikes.columns = ['DislikesWithJoe', 'DislikesNoJoe']"
   ]
  },
  {
   "cell_type": "code",
   "execution_count": 118,
   "metadata": {},
   "outputs": [
    {
     "data": {
      "text/plain": [
       "<matplotlib.axes._subplots.AxesSubplot at 0x113e4d910>"
      ]
     },
     "execution_count": 118,
     "metadata": {},
     "output_type": "execute_result"
    },
    {
     "data": {
      "image/png": "[encoded data removed]",
      "text/plain": [
       "<matplotlib.figure.Figure at 0x11321f9d0>"
      ]
     },
     "metadata": {},
     "output_type": "display_data"
    }
   ],
   "source": [
    "Newdata_dislikes.boxplot()"
   ]
  },
  {
   "cell_type": "code",
   "execution_count": null,
   "metadata": {
    "collapsed": true
   },
   "outputs": [],
   "source": []
  }
 ],
 "metadata": {
  "kernelspec": {
   "display_name": "Python 2",
   "language": "python",
   "name": "python2"
  },
  "language_info": {
   "codemirror_mode": {
    "name": "ipython",
    "version": 2
   },
   "file_extension": ".py",
   "mimetype": "text/x-python",
   "name": "python",
   "nbconvert_exporter": "python",
   "pygments_lexer": "ipython2",
   "version": "2.7.14"
  }
 },
 "nbformat": 4,
 "nbformat_minor": 2
}
